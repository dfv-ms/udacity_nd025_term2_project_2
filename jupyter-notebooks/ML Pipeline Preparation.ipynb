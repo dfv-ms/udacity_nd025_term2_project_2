{
 "cells": [
  {
   "cell_type": "markdown",
   "metadata": {},
   "source": [
    "# ML Pipeline Preparation\n",
    "Follow the instructions below to help you create your ML pipeline.\n",
    "### 1. Import libraries and load data from database.\n",
    "- Import Python libraries\n",
    "- Load dataset from database with [`read_sql_table`](https://pandas.pydata.org/pandas-docs/stable/generated/pandas.read_sql_table.html)\n",
    "- Define feature and target variables X and Y"
   ]
  },
  {
   "cell_type": "code",
   "execution_count": 1,
   "metadata": {},
   "outputs": [
    {
     "name": "stderr",
     "output_type": "stream",
     "text": [
      "[nltk_data] Downloading package punkt to /Users/stingl/nltk_data...\n",
      "[nltk_data]   Package punkt is already up-to-date!\n",
      "[nltk_data] Downloading package stopwords to\n",
      "[nltk_data]     /Users/stingl/nltk_data...\n",
      "[nltk_data]   Package stopwords is already up-to-date!\n",
      "[nltk_data] Downloading package wordnet to /Users/stingl/nltk_data...\n",
      "[nltk_data]   Package wordnet is already up-to-date!\n"
     ]
    }
   ],
   "source": [
    "# import libraries\n",
    "import pandas as pd\n",
    "from sqlalchemy import create_engine\n",
    "\n",
    "# NLP\n",
    "import re\n",
    "import nltk\n",
    "from nltk.corpus import stopwords\n",
    "from nltk.stem.wordnet import WordNetLemmatizer\n",
    "from nltk.tokenize import word_tokenize\n",
    "\n",
    "nltk.download('punkt')\n",
    "nltk.download('stopwords')\n",
    "nltk.download('wordnet')\n",
    "\n",
    "# sklearn\n",
    "from sklearn.pipeline import Pipeline\n",
    "from sklearn.feature_extraction.text import CountVectorizer, TfidfTransformer\n",
    "from sklearn.multioutput import MultiOutputClassifier\n",
    "from sklearn.ensemble import RandomForestClassifier\n",
    "from sklearn.svm import SVC\n",
    "from sklearn.model_selection import train_test_split, GridSearchCV\n",
    "from sklearn.metrics import classification_report, f1_score\n",
    "from sklearn.externals import joblib\n",
    "# from sklearn.metrics import confusion_matrix\n",
    "# \n",
    "# from sklearn.base import BaseEstimator, TransformerMixin\n"
   ]
  },
  {
   "cell_type": "code",
   "execution_count": 2,
   "metadata": {},
   "outputs": [],
   "source": [
    "# load data from database\n",
    "engine = create_engine('sqlite:///messages.db')\n",
    "connection = engine.connect()\n",
    "df = pd.read_sql_table(\"messages\", con=connection)\n",
    "X = df.iloc[:, 1]\n",
    "Y = df.iloc[:, 4:] "
   ]
  },
  {
   "cell_type": "markdown",
   "metadata": {},
   "source": [
    "### 2. Write a tokenization function to process your text data"
   ]
  },
  {
   "cell_type": "code",
   "execution_count": 3,
   "metadata": {},
   "outputs": [],
   "source": [
    "def tokenize(text):\n",
    "    # normalize case and remove punctuation\n",
    "    text = re.sub(r\"[^a-zA-Z0-9]\", \" \", text.lower())\n",
    "    \n",
    "    # tokenize text\n",
    "    tokens = word_tokenize(text)\n",
    "    \n",
    "    # lemmatize andremove stop words\n",
    "    stop_words = stopwords.words(\"english\")\n",
    "    lemmatizer = WordNetLemmatizer()\n",
    "    tokens = [lemmatizer.lemmatize(word) for word in tokens if word not in stop_words]\n",
    "\n",
    "    return tokens"
   ]
  },
  {
   "cell_type": "markdown",
   "metadata": {},
   "source": [
    "### 3. Build a machine learning pipeline\n",
    "This machine pipeline should take in the `message` column as input and output classification results on the other 36 categories in the dataset. You may find the [MultiOutputClassifier](http://scikit-learn.org/stable/modules/generated/sklearn.multioutput.MultiOutputClassifier.html) helpful for predicting multiple target variables."
   ]
  },
  {
   "cell_type": "code",
   "execution_count": 4,
   "metadata": {},
   "outputs": [],
   "source": [
    "pipeline = Pipeline([\n",
    "    ('vect', CountVectorizer(tokenizer=tokenize)),\n",
    "    ('tfidf', TfidfTransformer()),\n",
    "    ('mcfl', MultiOutputClassifier(estimator=RandomForestClassifier(n_estimators = 10)))\n",
    "])"
   ]
  },
  {
   "cell_type": "markdown",
   "metadata": {},
   "source": [
    "### 4. Train pipeline\n",
    "- Split data into train and test sets\n",
    "- Train pipeline"
   ]
  },
  {
   "cell_type": "code",
   "execution_count": 5,
   "metadata": {},
   "outputs": [
    {
     "data": {
      "text/plain": [
       "Pipeline(memory=None,\n",
       "     steps=[('vect', CountVectorizer(analyzer='word', binary=False, decode_error='strict',\n",
       "        dtype=<class 'numpy.int64'>, encoding='utf-8', input='content',\n",
       "        lowercase=True, max_df=1.0, max_features=None, min_df=1,\n",
       "        ngram_range=(1, 1), preprocessor=None, stop_words=None,\n",
       "        strip..._score=False, random_state=None, verbose=0,\n",
       "            warm_start=False),\n",
       "           n_jobs=None))])"
      ]
     },
     "execution_count": 5,
     "metadata": {},
     "output_type": "execute_result"
    }
   ],
   "source": [
    "X_train, X_test, Y_train, Y_test = train_test_split(X, Y, test_size=0.3, random_state=42)\n",
    "\n",
    "pipeline.fit(X_train, Y_train)"
   ]
  },
  {
   "cell_type": "markdown",
   "metadata": {},
   "source": [
    "### 5. Test your model\n",
    "Report the f1 score, precision and recall for each output category of the dataset. You can do this by iterating through the columns and calling sklearn's `classification_report` on each."
   ]
  },
  {
   "cell_type": "code",
   "execution_count": 6,
   "metadata": {},
   "outputs": [
    {
     "name": "stdout",
     "output_type": "stream",
     "text": [
      "Category:  0, f1-score: 0.877, precision:  0.841, recall:  0.917\n",
      "Category:  1, f1-score: 0.548, precision:  0.761, recall:  0.428\n",
      "Category:  2, f1-score: 0.000, precision:  0.000, recall:  0.000\n",
      "Category:  3, f1-score: 0.676, precision:  0.744, recall:  0.620\n",
      "Category:  4, f1-score: 0.127, precision:  0.582, recall:  0.071\n",
      "Category:  5, f1-score: 0.212, precision:  0.684, recall:  0.126\n",
      "Category:  6, f1-score: 0.079, precision:  0.714, recall:  0.042\n",
      "Category:  7, f1-score: 0.013, precision:  0.333, recall:  0.006\n",
      "Category:  8, f1-score: 0.133, precision:  0.588, recall:  0.075\n",
      "Caterogy:  9 doesn't have value 1\n",
      "Category: 10, f1-score: 0.466, precision:  0.854, recall:  0.320\n",
      "Category: 11, f1-score: 0.563, precision:  0.831, recall:  0.426\n",
      "Category: 12, f1-score: 0.467, precision:  0.812, recall:  0.328\n",
      "Category: 13, f1-score: 0.338, precision:  0.730, recall:  0.220\n",
      "Category: 14, f1-score: 0.079, precision:  0.800, recall:  0.042\n",
      "Category: 15, f1-score: 0.022, precision:  1.000, recall:  0.011\n",
      "Category: 16, f1-score: 0.100, precision:  0.667, recall:  0.054\n",
      "Category: 17, f1-score: 0.299, precision:  0.791, recall:  0.184\n",
      "Category: 18, f1-score: 0.088, precision:  0.551, recall:  0.048\n",
      "Category: 19, f1-score: 0.015, precision:  0.267, recall:  0.008\n",
      "Category: 20, f1-score: 0.202, precision:  0.683, recall:  0.119\n",
      "Category: 21, f1-score: 0.231, precision:  0.795, recall:  0.135\n",
      "Category: 22, f1-score: 0.090, precision:  0.875, recall:  0.047\n",
      "Category: 23, f1-score: 0.000, precision:  0.000, recall:  0.000\n",
      "Category: 24, f1-score: 0.000, precision:  0.000, recall:  0.000\n",
      "Category: 25, f1-score: 0.000, precision:  0.000, recall:  0.000\n",
      "Category: 26, f1-score: 0.000, precision:  0.000, recall:  0.000\n",
      "Category: 27, f1-score: 0.005, precision:  0.067, recall:  0.003\n",
      "Category: 28, f1-score: 0.713, precision:  0.834, recall:  0.622\n",
      "Category: 29, f1-score: 0.488, precision:  0.885, recall:  0.336\n",
      "Category: 30, f1-score: 0.555, precision:  0.777, recall:  0.431\n",
      "Category: 31, f1-score: 0.022, precision:  0.500, recall:  0.011\n",
      "Category: 32, f1-score: 0.783, precision:  0.875, recall:  0.708\n",
      "Category: 33, f1-score: 0.088, precision:  0.667, recall:  0.047\n",
      "Category: 34, f1-score: 0.081, precision:  0.531, recall:  0.044\n",
      "Category: 35, f1-score: 0.444, precision:  0.729, recall:  0.319\n"
     ]
    },
    {
     "name": "stderr",
     "output_type": "stream",
     "text": [
      "/Users/stingl/anaconda3/envs/nd025_aktuell/lib/python3.7/site-packages/sklearn/metrics/classification.py:1143: UndefinedMetricWarning: Precision and F-score are ill-defined and being set to 0.0 in labels with no predicted samples.\n",
      "  'precision', 'predicted', average, warn_for)\n"
     ]
    }
   ],
   "source": [
    "def show_metrics(Y_test, Y_pred):\n",
    "    \"\"\"\n",
    "    Print f1-score, precision and recall for each category\n",
    "    \n",
    "    Parameters:\n",
    "    -----------\n",
    "    Y_test: True values,\n",
    "    Y_pred: Predicted values\n",
    "    \"\"\"\n",
    "    for cat in range(0, Y_test.shape[1]):\n",
    "        cf=classification_report(Y_test.iloc[:, cat], pd.DataFrame(Y_pred).iloc[:, cat], output_dict=True).get('1')\n",
    "        if cf is not None:\n",
    "            print(f\"Category:{cat: 3d}, f1-score: {cf['f1-score'] :5.3f}, precision: {cf['precision']: 5.3f}, recall: {cf['recall']: 5.3f}\")\n",
    "        else:\n",
    "            print(f\"Caterogy:{cat: 3d} doesn't have value 1\")\n",
    "                  \n",
    "Y_pred = pipeline.predict(X_test)                  \n",
    "show_metrics(Y_test, Y_pred)"
   ]
  },
  {
   "cell_type": "code",
   "execution_count": 7,
   "metadata": {},
   "outputs": [
    {
     "name": "stderr",
     "output_type": "stream",
     "text": [
      "/Users/stingl/anaconda3/envs/nd025_aktuell/lib/python3.7/site-packages/sklearn/metrics/classification.py:1145: UndefinedMetricWarning: Recall and F-score are ill-defined and being set to 0.0 in labels with no true samples.\n",
      "  'recall', 'true', average, warn_for)\n"
     ]
    },
    {
     "name": "stdout",
     "output_type": "stream",
     "text": [
      "              precision    recall  f1-score   support\n",
      "\n",
      "           0       0.84      0.92      0.88      5941\n",
      "           1       0.76      0.43      0.55      1333\n",
      "           2       0.00      0.00      0.00        34\n",
      "           3       0.74      0.62      0.68      3286\n",
      "           4       0.58      0.07      0.13       644\n",
      "           5       0.68      0.13      0.21       414\n",
      "           6       0.71      0.04      0.08       239\n",
      "           7       0.33      0.01      0.01       156\n",
      "           8       0.59      0.07      0.13       267\n",
      "           9       0.00      0.00      0.00         0\n",
      "          10       0.85      0.32      0.47       512\n",
      "          11       0.83      0.43      0.56       878\n",
      "          12       0.81      0.33      0.47       714\n",
      "          13       0.73      0.22      0.34       123\n",
      "          14       0.80      0.04      0.08       192\n",
      "          15       1.00      0.01      0.02        88\n",
      "          16       0.67      0.05      0.10       259\n",
      "          17       0.79      0.18      0.30       369\n",
      "          18       0.55      0.05      0.09      1021\n",
      "          19       0.27      0.01      0.01       521\n",
      "          20       0.68      0.12      0.20       362\n",
      "          21       0.79      0.13      0.23       430\n",
      "          22       0.88      0.05      0.09       148\n",
      "          23       0.00      0.00      0.00        46\n",
      "          24       0.00      0.00      0.00        90\n",
      "          25       0.00      0.00      0.00        39\n",
      "          26       0.00      0.00      0.00        86\n",
      "          27       0.07      0.00      0.01       350\n",
      "          28       0.83      0.62      0.71      2188\n",
      "          29       0.88      0.34      0.49       639\n",
      "          30       0.78      0.43      0.55       744\n",
      "          31       0.50      0.01      0.02        88\n",
      "          32       0.88      0.71      0.78       734\n",
      "          33       0.67      0.05      0.09       169\n",
      "          34       0.53      0.04      0.08       388\n",
      "          35       0.73      0.32      0.44      1547\n",
      "\n",
      "   micro avg       0.81      0.49      0.61     25039\n",
      "   macro avg       0.58      0.19      0.24     25039\n",
      "weighted avg       0.74      0.49      0.54     25039\n",
      " samples avg       0.64      0.44      0.47     25039\n",
      "\n"
     ]
    },
    {
     "name": "stderr",
     "output_type": "stream",
     "text": [
      "/Users/stingl/anaconda3/envs/nd025_aktuell/lib/python3.7/site-packages/sklearn/metrics/classification.py:1143: UndefinedMetricWarning: Precision and F-score are ill-defined and being set to 0.0 in samples with no predicted labels.\n",
      "  'precision', 'predicted', average, warn_for)\n",
      "/Users/stingl/anaconda3/envs/nd025_aktuell/lib/python3.7/site-packages/sklearn/metrics/classification.py:1145: UndefinedMetricWarning: Recall and F-score are ill-defined and being set to 0.0 in samples with no true labels.\n",
      "  'recall', 'true', average, warn_for)\n"
     ]
    }
   ],
   "source": [
    "print(classification_report(Y_test, Y_pred))"
   ]
  },
  {
   "cell_type": "markdown",
   "metadata": {},
   "source": [
    "### 6. Improve your model\n",
    "Use grid search to find better parameters. "
   ]
  },
  {
   "cell_type": "code",
   "execution_count": 8,
   "metadata": {},
   "outputs": [
    {
     "data": {
      "text/plain": [
       "{'memory': None,\n",
       " 'steps': [('vect',\n",
       "   CountVectorizer(analyzer='word', binary=False, decode_error='strict',\n",
       "           dtype=<class 'numpy.int64'>, encoding='utf-8', input='content',\n",
       "           lowercase=True, max_df=1.0, max_features=None, min_df=1,\n",
       "           ngram_range=(1, 1), preprocessor=None, stop_words=None,\n",
       "           strip_accents=None, token_pattern='(?u)\\\\b\\\\w\\\\w+\\\\b',\n",
       "           tokenizer=<function tokenize at 0x1a182ae200>, vocabulary=None)),\n",
       "  ('tfidf',\n",
       "   TfidfTransformer(norm='l2', smooth_idf=True, sublinear_tf=False, use_idf=True)),\n",
       "  ('mcfl',\n",
       "   MultiOutputClassifier(estimator=RandomForestClassifier(bootstrap=True, class_weight=None, criterion='gini',\n",
       "               max_depth=None, max_features='auto', max_leaf_nodes=None,\n",
       "               min_impurity_decrease=0.0, min_impurity_split=None,\n",
       "               min_samples_leaf=1, min_samples_split=2,\n",
       "               min_weight_fraction_leaf=0.0, n_estimators=10, n_jobs=None,\n",
       "               oob_score=False, random_state=None, verbose=0,\n",
       "               warm_start=False),\n",
       "              n_jobs=None))],\n",
       " 'vect': CountVectorizer(analyzer='word', binary=False, decode_error='strict',\n",
       "         dtype=<class 'numpy.int64'>, encoding='utf-8', input='content',\n",
       "         lowercase=True, max_df=1.0, max_features=None, min_df=1,\n",
       "         ngram_range=(1, 1), preprocessor=None, stop_words=None,\n",
       "         strip_accents=None, token_pattern='(?u)\\\\b\\\\w\\\\w+\\\\b',\n",
       "         tokenizer=<function tokenize at 0x1a182ae200>, vocabulary=None),\n",
       " 'tfidf': TfidfTransformer(norm='l2', smooth_idf=True, sublinear_tf=False, use_idf=True),\n",
       " 'mcfl': MultiOutputClassifier(estimator=RandomForestClassifier(bootstrap=True, class_weight=None, criterion='gini',\n",
       "             max_depth=None, max_features='auto', max_leaf_nodes=None,\n",
       "             min_impurity_decrease=0.0, min_impurity_split=None,\n",
       "             min_samples_leaf=1, min_samples_split=2,\n",
       "             min_weight_fraction_leaf=0.0, n_estimators=10, n_jobs=None,\n",
       "             oob_score=False, random_state=None, verbose=0,\n",
       "             warm_start=False),\n",
       "            n_jobs=None),\n",
       " 'vect__analyzer': 'word',\n",
       " 'vect__binary': False,\n",
       " 'vect__decode_error': 'strict',\n",
       " 'vect__dtype': numpy.int64,\n",
       " 'vect__encoding': 'utf-8',\n",
       " 'vect__input': 'content',\n",
       " 'vect__lowercase': True,\n",
       " 'vect__max_df': 1.0,\n",
       " 'vect__max_features': None,\n",
       " 'vect__min_df': 1,\n",
       " 'vect__ngram_range': (1, 1),\n",
       " 'vect__preprocessor': None,\n",
       " 'vect__stop_words': None,\n",
       " 'vect__strip_accents': None,\n",
       " 'vect__token_pattern': '(?u)\\\\b\\\\w\\\\w+\\\\b',\n",
       " 'vect__tokenizer': <function __main__.tokenize(text)>,\n",
       " 'vect__vocabulary': None,\n",
       " 'tfidf__norm': 'l2',\n",
       " 'tfidf__smooth_idf': True,\n",
       " 'tfidf__sublinear_tf': False,\n",
       " 'tfidf__use_idf': True,\n",
       " 'mcfl__estimator__bootstrap': True,\n",
       " 'mcfl__estimator__class_weight': None,\n",
       " 'mcfl__estimator__criterion': 'gini',\n",
       " 'mcfl__estimator__max_depth': None,\n",
       " 'mcfl__estimator__max_features': 'auto',\n",
       " 'mcfl__estimator__max_leaf_nodes': None,\n",
       " 'mcfl__estimator__min_impurity_decrease': 0.0,\n",
       " 'mcfl__estimator__min_impurity_split': None,\n",
       " 'mcfl__estimator__min_samples_leaf': 1,\n",
       " 'mcfl__estimator__min_samples_split': 2,\n",
       " 'mcfl__estimator__min_weight_fraction_leaf': 0.0,\n",
       " 'mcfl__estimator__n_estimators': 10,\n",
       " 'mcfl__estimator__n_jobs': None,\n",
       " 'mcfl__estimator__oob_score': False,\n",
       " 'mcfl__estimator__random_state': None,\n",
       " 'mcfl__estimator__verbose': 0,\n",
       " 'mcfl__estimator__warm_start': False,\n",
       " 'mcfl__estimator': RandomForestClassifier(bootstrap=True, class_weight=None, criterion='gini',\n",
       "             max_depth=None, max_features='auto', max_leaf_nodes=None,\n",
       "             min_impurity_decrease=0.0, min_impurity_split=None,\n",
       "             min_samples_leaf=1, min_samples_split=2,\n",
       "             min_weight_fraction_leaf=0.0, n_estimators=10, n_jobs=None,\n",
       "             oob_score=False, random_state=None, verbose=0,\n",
       "             warm_start=False),\n",
       " 'mcfl__n_jobs': None}"
      ]
     },
     "execution_count": 8,
     "metadata": {},
     "output_type": "execute_result"
    }
   ],
   "source": [
    "pipeline.get_params()"
   ]
  },
  {
   "cell_type": "code",
   "execution_count": 9,
   "metadata": {},
   "outputs": [
    {
     "name": "stdout",
     "output_type": "stream",
     "text": [
      "Fitting 3 folds for each of 27 candidates, totalling 81 fits\n"
     ]
    },
    {
     "name": "stderr",
     "output_type": "stream",
     "text": [
      "[Parallel(n_jobs=12)]: Using backend LokyBackend with 12 concurrent workers.\n",
      "[Parallel(n_jobs=12)]: Done   1 tasks      | elapsed:   40.7s\n",
      "[Parallel(n_jobs=12)]: Done   8 tasks      | elapsed:   45.5s\n",
      "[Parallel(n_jobs=12)]: Done  17 tasks      | elapsed:  1.5min\n",
      "[Parallel(n_jobs=12)]: Done  26 tasks      | elapsed:  2.3min\n",
      "[Parallel(n_jobs=12)]: Done  37 tasks      | elapsed:  3.4min\n",
      "[Parallel(n_jobs=12)]: Done  48 tasks      | elapsed:  4.2min\n",
      "[Parallel(n_jobs=12)]: Done  67 out of  81 | elapsed:  6.4min remaining:  1.3min\n",
      "[Parallel(n_jobs=12)]: Done  76 out of  81 | elapsed:  7.4min remaining:   29.2s\n",
      "[Parallel(n_jobs=12)]: Done  81 out of  81 | elapsed:  7.7min finished\n"
     ]
    },
    {
     "data": {
      "text/plain": [
       "GridSearchCV(cv=3, error_score='raise-deprecating',\n",
       "       estimator=Pipeline(memory=None,\n",
       "     steps=[('vect', CountVectorizer(analyzer='word', binary=False, decode_error='strict',\n",
       "        dtype=<class 'numpy.int64'>, encoding='utf-8', input='content',\n",
       "        lowercase=True, max_df=1.0, max_features=None, min_df=1,\n",
       "        ngram_range=(1, 1), preprocessor=None, stop_words=None,\n",
       "        strip..._score=False, random_state=None, verbose=0,\n",
       "            warm_start=False),\n",
       "           n_jobs=None))]),\n",
       "       fit_params=None, iid='warn', n_jobs=12,\n",
       "       param_grid={'mcfl__estimator__max_depth': [20, 50, 100], 'mcfl__estimator__min_samples_split': [2, 5, 20], 'mcfl__estimator__n_estimators': [5, 10, 20]},\n",
       "       pre_dispatch='2*n_jobs', refit=True, return_train_score='warn',\n",
       "       scoring='f1_micro', verbose=10)"
      ]
     },
     "execution_count": 9,
     "metadata": {},
     "output_type": "execute_result"
    }
   ],
   "source": [
    "parameters = {\n",
    "#     'vect__binary': [True, False], \n",
    "    'mcfl__estimator__max_depth': [20, 50, 100],\n",
    "    'mcfl__estimator__min_samples_split': [2, 5, 20],\n",
    "    'mcfl__estimator__n_estimators': [5, 10, 20]\n",
    "}\n",
    "\n",
    "cv = GridSearchCV(pipeline, param_grid=parameters, verbose=10, cv=3, n_jobs=12, scoring='f1_micro')\n",
    "\n",
    "cv.fit(X_train, Y_train)"
   ]
  },
  {
   "cell_type": "code",
   "execution_count": 10,
   "metadata": {},
   "outputs": [
    {
     "data": {
      "text/plain": [
       "{'mcfl__estimator__max_depth': 100,\n",
       " 'mcfl__estimator__min_samples_split': 20,\n",
       " 'mcfl__estimator__n_estimators': 20}"
      ]
     },
     "execution_count": 10,
     "metadata": {},
     "output_type": "execute_result"
    }
   ],
   "source": [
    "cv.best_params_"
   ]
  },
  {
   "cell_type": "code",
   "execution_count": 11,
   "metadata": {},
   "outputs": [
    {
     "data": {
      "text/plain": [
       "0.6037436259084179"
      ]
     },
     "execution_count": 11,
     "metadata": {},
     "output_type": "execute_result"
    }
   ],
   "source": [
    "cv.best_score_"
   ]
  },
  {
   "cell_type": "code",
   "execution_count": 12,
   "metadata": {},
   "outputs": [
    {
     "data": {
      "text/plain": [
       "0.588597450835729"
      ]
     },
     "execution_count": 12,
     "metadata": {},
     "output_type": "execute_result"
    }
   ],
   "source": [
    "cv.score(X_test, Y_test)"
   ]
  },
  {
   "cell_type": "markdown",
   "metadata": {},
   "source": [
    "### 7. Test your model\n",
    "Show the accuracy, precision, and recall of the tuned model.  \n",
    "\n",
    "Since this project focuses on code quality, process, and  pipelines, there is no minimum performance metric needed to pass. However, make sure to fine tune your models for accuracy, precision and recall to make your project stand out - especially for your portfolio!"
   ]
  },
  {
   "cell_type": "code",
   "execution_count": 13,
   "metadata": {},
   "outputs": [
    {
     "name": "stdout",
     "output_type": "stream",
     "text": [
      "Category:  0, f1-score: 0.880, precision:  0.797, recall:  0.983\n",
      "Category:  1, f1-score: 0.539, precision:  0.858, recall:  0.393\n",
      "Category:  2, f1-score: 0.000, precision:  0.000, recall:  0.000\n",
      "Category:  3, f1-score: 0.698, precision:  0.776, recall:  0.634\n",
      "Category:  4, f1-score: 0.082, precision:  0.667, recall:  0.043\n",
      "Category:  5, f1-score: 0.100, precision:  0.786, recall:  0.053\n",
      "Category:  6, f1-score: 0.025, precision:  0.750, recall:  0.013\n",
      "Category:  7, f1-score: 0.013, precision:  0.333, recall:  0.006\n",
      "Category:  8, f1-score: 0.071, precision:  0.714, recall:  0.037\n",
      "Caterogy:  9 doesn't have value 1\n",
      "Category: 10, f1-score: 0.331, precision:  0.897, recall:  0.203\n",
      "Category: 11, f1-score: 0.421, precision:  0.854, recall:  0.279\n",
      "Category: 12, f1-score: 0.327, precision:  0.894, recall:  0.200\n",
      "Category: 13, f1-score: 0.078, precision:  0.833, recall:  0.041\n",
      "Category: 14, f1-score: 0.021, precision:  1.000, recall:  0.010\n",
      "Category: 15, f1-score: 0.000, precision:  0.000, recall:  0.000\n",
      "Category: 16, f1-score: 0.037, precision:  0.500, recall:  0.019\n",
      "Category: 17, f1-score: 0.107, precision:  0.913, recall:  0.057\n",
      "Category: 18, f1-score: 0.021, precision:  0.688, recall:  0.011\n",
      "Category: 19, f1-score: 0.000, precision:  0.000, recall:  0.000\n",
      "Category: 20, f1-score: 0.094, precision:  0.947, recall:  0.050\n",
      "Category: 21, f1-score: 0.138, precision:  0.914, recall:  0.074\n",
      "Category: 22, f1-score: 0.053, precision:  1.000, recall:  0.027\n",
      "Category: 23, f1-score: 0.000, precision:  0.000, recall:  0.000\n",
      "Category: 24, f1-score: 0.000, precision:  0.000, recall:  0.000\n",
      "Category: 25, f1-score: 0.000, precision:  0.000, recall:  0.000\n",
      "Category: 26, f1-score: 0.000, precision:  0.000, recall:  0.000\n",
      "Category: 27, f1-score: 0.000, precision:  0.000, recall:  0.000\n",
      "Category: 28, f1-score: 0.640, precision:  0.850, recall:  0.513\n",
      "Category: 29, f1-score: 0.390, precision:  0.940, recall:  0.246\n",
      "Category: 30, f1-score: 0.464, precision:  0.828, recall:  0.323\n",
      "Category: 31, f1-score: 0.000, precision:  0.000, recall:  0.000\n",
      "Category: 32, f1-score: 0.747, precision:  0.903, recall:  0.636\n",
      "Category: 33, f1-score: 0.101, precision:  1.000, recall:  0.053\n",
      "Category: 34, f1-score: 0.025, precision:  1.000, recall:  0.013\n",
      "Category: 35, f1-score: 0.440, precision:  0.827, recall:  0.300\n"
     ]
    },
    {
     "name": "stderr",
     "output_type": "stream",
     "text": [
      "/Users/stingl/anaconda3/envs/nd025_aktuell/lib/python3.7/site-packages/sklearn/metrics/classification.py:1143: UndefinedMetricWarning: Precision and F-score are ill-defined and being set to 0.0 in labels with no predicted samples.\n",
      "  'precision', 'predicted', average, warn_for)\n"
     ]
    }
   ],
   "source": [
    "Y_pred = cv.predict(X_test)\n",
    "\n",
    "show_metrics(Y_test, Y_pred)"
   ]
  },
  {
   "cell_type": "code",
   "execution_count": 14,
   "metadata": {},
   "outputs": [
    {
     "name": "stdout",
     "output_type": "stream",
     "text": [
      "              precision    recall  f1-score   support\n",
      "\n",
      "           0       0.80      0.98      0.88      5941\n",
      "           1       0.86      0.39      0.54      1333\n",
      "           2       0.00      0.00      0.00        34\n",
      "           3       0.78      0.63      0.70      3286\n",
      "           4       0.67      0.04      0.08       644\n",
      "           5       0.79      0.05      0.10       414\n",
      "           6       0.75      0.01      0.02       239\n",
      "           7       0.33      0.01      0.01       156\n",
      "           8       0.71      0.04      0.07       267\n",
      "           9       0.00      0.00      0.00         0\n",
      "          10       0.90      0.20      0.33       512\n",
      "          11       0.85      0.28      0.42       878\n",
      "          12       0.89      0.20      0.33       714\n",
      "          13       0.83      0.04      0.08       123\n",
      "          14       1.00      0.01      0.02       192\n",
      "          15       0.00      0.00      0.00        88\n",
      "          16       0.50      0.02      0.04       259\n",
      "          17       0.91      0.06      0.11       369\n",
      "          18       0.69      0.01      0.02      1021\n",
      "          19       0.00      0.00      0.00       521\n",
      "          20       0.95      0.05      0.09       362\n",
      "          21       0.91      0.07      0.14       430\n",
      "          22       1.00      0.03      0.05       148\n",
      "          23       0.00      0.00      0.00        46\n",
      "          24       0.00      0.00      0.00        90\n",
      "          25       0.00      0.00      0.00        39\n",
      "          26       0.00      0.00      0.00        86\n",
      "          27       0.00      0.00      0.00       350\n",
      "          28       0.85      0.51      0.64      2188\n",
      "          29       0.94      0.25      0.39       639\n",
      "          30       0.83      0.32      0.46       744\n",
      "          31       0.00      0.00      0.00        88\n",
      "          32       0.90      0.64      0.75       734\n",
      "          33       1.00      0.05      0.10       169\n",
      "          34       1.00      0.01      0.03       388\n",
      "          35       0.83      0.30      0.44      1547\n",
      "\n",
      "   micro avg       0.81      0.46      0.59     25039\n",
      "   macro avg       0.60      0.14      0.19     25039\n",
      "weighted avg       0.77      0.46      0.50     25039\n",
      " samples avg       0.70      0.45      0.50     25039\n",
      "\n"
     ]
    },
    {
     "name": "stderr",
     "output_type": "stream",
     "text": [
      "/Users/stingl/anaconda3/envs/nd025_aktuell/lib/python3.7/site-packages/sklearn/metrics/classification.py:1145: UndefinedMetricWarning: Recall and F-score are ill-defined and being set to 0.0 in labels with no true samples.\n",
      "  'recall', 'true', average, warn_for)\n",
      "/Users/stingl/anaconda3/envs/nd025_aktuell/lib/python3.7/site-packages/sklearn/metrics/classification.py:1143: UndefinedMetricWarning: Precision and F-score are ill-defined and being set to 0.0 in samples with no predicted labels.\n",
      "  'precision', 'predicted', average, warn_for)\n",
      "/Users/stingl/anaconda3/envs/nd025_aktuell/lib/python3.7/site-packages/sklearn/metrics/classification.py:1145: UndefinedMetricWarning: Recall and F-score are ill-defined and being set to 0.0 in samples with no true labels.\n",
      "  'recall', 'true', average, warn_for)\n"
     ]
    }
   ],
   "source": [
    "print(classification_report(Y_test, Y_pred))"
   ]
  },
  {
   "cell_type": "markdown",
   "metadata": {},
   "source": [
    "### 8. Try improving your model further. Here are a few ideas:\n",
    "* try other machine learning algorithms\n",
    "* add other features besides the TF-IDF"
   ]
  },
  {
   "cell_type": "markdown",
   "metadata": {},
   "source": [
    "# Drop columns with only 1 value\n",
    "\"child_alone\" and maybe other columns have only one value. So drop them because they may cause problems with some Classificators."
   ]
  },
  {
   "cell_type": "code",
   "execution_count": 15,
   "metadata": {},
   "outputs": [],
   "source": [
    "def drop_single_value_columns(data):\n",
    "    \"\"\"\n",
    "    Drop any column which doesn't contain two diffent values\n",
    "    \n",
    "    Parameters:\n",
    "    -----------\n",
    "    data: DataFrame\n",
    "    \n",
    "    Return value:\n",
    "    -------------\n",
    "    DataFrame with column(s) removed\n",
    "    \"\"\"\n",
    "    \n",
    "    data.columns[data.nunique(axis=0) != 2]\n",
    "    data.drop(columns=data.columns[data.nunique(axis=0) != 2], inplace=True)\n",
    "    return data"
   ]
  },
  {
   "cell_type": "code",
   "execution_count": 16,
   "metadata": {},
   "outputs": [
    {
     "name": "stderr",
     "output_type": "stream",
     "text": [
      "[Parallel(n_jobs=12)]: Using backend LokyBackend with 12 concurrent workers.\n"
     ]
    },
    {
     "name": "stdout",
     "output_type": "stream",
     "text": [
      "Fitting 3 folds for each of 1 candidates, totalling 3 fits\n"
     ]
    },
    {
     "name": "stderr",
     "output_type": "stream",
     "text": [
      "[Parallel(n_jobs=12)]: Done   3 out of   3 | elapsed:  6.7min remaining:    0.0s\n",
      "[Parallel(n_jobs=12)]: Done   3 out of   3 | elapsed:  6.7min finished\n"
     ]
    },
    {
     "data": {
      "text/plain": [
       "GridSearchCV(cv=3, error_score='raise-deprecating',\n",
       "       estimator=Pipeline(memory=None,\n",
       "     steps=[('vect', CountVectorizer(analyzer='word', binary=False, decode_error='strict',\n",
       "        dtype=<class 'numpy.int64'>, encoding='utf-8', input='content',\n",
       "        lowercase=True, max_df=1.0, max_features=None, min_df=1,\n",
       "        ngram_range=(1, 1), preprocessor=None, stop_words=None,\n",
       "        strip...ity=False, random_state=None,\n",
       "  shrinking=True, tol=0.001, verbose=False),\n",
       "           n_jobs=None))]),\n",
       "       fit_params=None, iid='warn', n_jobs=12,\n",
       "       param_grid={'mcfl__estimator__kernel': ['linear']},\n",
       "       pre_dispatch='2*n_jobs', refit=True, return_train_score='warn',\n",
       "       scoring='f1_micro', verbose=10)"
      ]
     },
     "execution_count": 16,
     "metadata": {},
     "output_type": "execute_result"
    }
   ],
   "source": [
    "X = df.iloc[:, 1]\n",
    "Y = drop_single_value_columns(df.iloc[:, 4:]) \n",
    "\n",
    "\n",
    "X_train, X_test, Y_train, Y_test = train_test_split(X, Y, test_size=0.3, random_state=42)\n",
    "\n",
    "pipeline = Pipeline([\n",
    "    ('vect', CountVectorizer(tokenizer=tokenize)),\n",
    "    ('tfidf', TfidfTransformer()),\n",
    "    ('mcfl', MultiOutputClassifier(estimator=SVC()))\n",
    "])\n",
    "\n",
    "parameters = {\n",
    "#     'mcfl__estimator__kernel' : ['linear', 'rbf', 'sigmoid'],\n",
    "    'mcfl__estimator__kernel' : ['linear'],\n",
    "#     'mcfl__estimator__degree' : [3, 4, 5, 6],\n",
    "#     'mcfl__estimator__kernel' : ['poly'],\n",
    "}\n",
    "\n",
    "cv = GridSearchCV(pipeline, param_grid=parameters, verbose=10, cv=3, n_jobs=12, scoring='f1_micro')\n",
    "\n",
    "cv.fit(X_train, Y_train)"
   ]
  },
  {
   "cell_type": "code",
   "execution_count": 17,
   "metadata": {},
   "outputs": [
    {
     "name": "stdout",
     "output_type": "stream",
     "text": [
      "{'mcfl__estimator__kernel': 'linear'}\n",
      "0.6772289922751838\n",
      "              precision    recall  f1-score   support\n",
      "\n",
      "           0       0.86      0.93      0.89      5941\n",
      "           1       0.78      0.58      0.67      1333\n",
      "           2       0.00      0.00      0.00        34\n",
      "           3       0.75      0.69      0.72      3286\n",
      "           4       0.65      0.20      0.31       644\n",
      "           5       0.75      0.26      0.39       414\n",
      "           6       0.79      0.13      0.22       239\n",
      "           7       0.00      0.00      0.00       156\n",
      "           8       0.68      0.25      0.37       267\n",
      "           9       0.75      0.66      0.70       512\n",
      "          10       0.79      0.76      0.78       878\n",
      "          11       0.80      0.55      0.65       714\n",
      "          12       0.76      0.45      0.56       123\n",
      "          13       0.81      0.13      0.22       192\n",
      "          14       0.57      0.18      0.28        88\n",
      "          15       0.62      0.19      0.29       259\n",
      "          16       0.78      0.44      0.56       369\n",
      "          17       0.58      0.09      0.15      1021\n",
      "          18       0.33      0.00      0.01       521\n",
      "          19       0.66      0.20      0.31       362\n",
      "          20       0.79      0.35      0.48       430\n",
      "          21       0.77      0.23      0.35       148\n",
      "          22       0.00      0.00      0.00        46\n",
      "          23       0.00      0.00      0.00        90\n",
      "          24       0.00      0.00      0.00        39\n",
      "          25       0.00      0.00      0.00        86\n",
      "          26       0.25      0.00      0.01       350\n",
      "          27       0.85      0.73      0.78      2188\n",
      "          28       0.91      0.56      0.70       639\n",
      "          29       0.76      0.65      0.70       744\n",
      "          30       0.68      0.26      0.38        88\n",
      "          31       0.89      0.80      0.84       734\n",
      "          32       0.71      0.28      0.40       169\n",
      "          33       0.77      0.08      0.14       388\n",
      "          34       0.73      0.47      0.57      1547\n",
      "\n",
      "   micro avg       0.81      0.59      0.68     25039\n",
      "   macro avg       0.60      0.32      0.38     25039\n",
      "weighted avg       0.76      0.59      0.63     25039\n",
      " samples avg       0.63      0.50      0.52     25039\n",
      "\n"
     ]
    },
    {
     "name": "stderr",
     "output_type": "stream",
     "text": [
      "/Users/stingl/anaconda3/envs/nd025_aktuell/lib/python3.7/site-packages/sklearn/metrics/classification.py:1143: UndefinedMetricWarning: Precision and F-score are ill-defined and being set to 0.0 in labels with no predicted samples.\n",
      "  'precision', 'predicted', average, warn_for)\n",
      "/Users/stingl/anaconda3/envs/nd025_aktuell/lib/python3.7/site-packages/sklearn/metrics/classification.py:1143: UndefinedMetricWarning: Precision and F-score are ill-defined and being set to 0.0 in samples with no predicted labels.\n",
      "  'precision', 'predicted', average, warn_for)\n",
      "/Users/stingl/anaconda3/envs/nd025_aktuell/lib/python3.7/site-packages/sklearn/metrics/classification.py:1145: UndefinedMetricWarning: Recall and F-score are ill-defined and being set to 0.0 in samples with no true labels.\n",
      "  'recall', 'true', average, warn_for)\n"
     ]
    }
   ],
   "source": [
    "Y_pred = cv.predict(X_test)\n",
    "print(cv.best_params_)\n",
    "print(cv.best_score_)\n",
    "print(classification_report(Y_test, Y_pred)) "
   ]
  },
  {
   "cell_type": "code",
   "execution_count": 18,
   "metadata": {},
   "outputs": [
    {
     "name": "stdout",
     "output_type": "stream",
     "text": [
      "Fitting 3 folds for each of 5 candidates, totalling 15 fits\n"
     ]
    },
    {
     "name": "stderr",
     "output_type": "stream",
     "text": [
      "[Parallel(n_jobs=12)]: Using backend LokyBackend with 12 concurrent workers.\n",
      "[Parallel(n_jobs=12)]: Done   2 out of  15 | elapsed:  9.5min remaining: 62.0min\n",
      "[Parallel(n_jobs=12)]: Done   4 out of  15 | elapsed:  9.6min remaining: 26.3min\n",
      "[Parallel(n_jobs=12)]: Done   6 out of  15 | elapsed:  9.7min remaining: 14.5min\n",
      "[Parallel(n_jobs=12)]: Done   8 out of  15 | elapsed:  9.7min remaining:  8.5min\n",
      "[Parallel(n_jobs=12)]: Done  10 out of  15 | elapsed:  9.7min remaining:  4.8min\n",
      "[Parallel(n_jobs=12)]: Done  12 out of  15 | elapsed:  9.7min remaining:  2.4min\n",
      "[Parallel(n_jobs=12)]: Done  15 out of  15 | elapsed: 13.9min finished\n",
      "/Users/stingl/anaconda3/envs/nd025_aktuell/lib/python3.7/site-packages/sklearn/svm/base.py:196: FutureWarning: The default value of gamma will change from 'auto' to 'scale' in version 0.22 to account better for unscaled features. Set gamma explicitly to 'auto' or 'scale' to avoid this warning.\n",
      "  \"avoid this warning.\", FutureWarning)\n",
      "/Users/stingl/anaconda3/envs/nd025_aktuell/lib/python3.7/site-packages/sklearn/svm/base.py:196: FutureWarning: The default value of gamma will change from 'auto' to 'scale' in version 0.22 to account better for unscaled features. Set gamma explicitly to 'auto' or 'scale' to avoid this warning.\n",
      "  \"avoid this warning.\", FutureWarning)\n",
      "/Users/stingl/anaconda3/envs/nd025_aktuell/lib/python3.7/site-packages/sklearn/svm/base.py:196: FutureWarning: The default value of gamma will change from 'auto' to 'scale' in version 0.22 to account better for unscaled features. Set gamma explicitly to 'auto' or 'scale' to avoid this warning.\n",
      "  \"avoid this warning.\", FutureWarning)\n",
      "/Users/stingl/anaconda3/envs/nd025_aktuell/lib/python3.7/site-packages/sklearn/svm/base.py:196: FutureWarning: The default value of gamma will change from 'auto' to 'scale' in version 0.22 to account better for unscaled features. Set gamma explicitly to 'auto' or 'scale' to avoid this warning.\n",
      "  \"avoid this warning.\", FutureWarning)\n",
      "/Users/stingl/anaconda3/envs/nd025_aktuell/lib/python3.7/site-packages/sklearn/svm/base.py:196: FutureWarning: The default value of gamma will change from 'auto' to 'scale' in version 0.22 to account better for unscaled features. Set gamma explicitly to 'auto' or 'scale' to avoid this warning.\n",
      "  \"avoid this warning.\", FutureWarning)\n",
      "/Users/stingl/anaconda3/envs/nd025_aktuell/lib/python3.7/site-packages/sklearn/svm/base.py:196: FutureWarning: The default value of gamma will change from 'auto' to 'scale' in version 0.22 to account better for unscaled features. Set gamma explicitly to 'auto' or 'scale' to avoid this warning.\n",
      "  \"avoid this warning.\", FutureWarning)\n",
      "/Users/stingl/anaconda3/envs/nd025_aktuell/lib/python3.7/site-packages/sklearn/svm/base.py:196: FutureWarning: The default value of gamma will change from 'auto' to 'scale' in version 0.22 to account better for unscaled features. Set gamma explicitly to 'auto' or 'scale' to avoid this warning.\n",
      "  \"avoid this warning.\", FutureWarning)\n",
      "/Users/stingl/anaconda3/envs/nd025_aktuell/lib/python3.7/site-packages/sklearn/svm/base.py:196: FutureWarning: The default value of gamma will change from 'auto' to 'scale' in version 0.22 to account better for unscaled features. Set gamma explicitly to 'auto' or 'scale' to avoid this warning.\n",
      "  \"avoid this warning.\", FutureWarning)\n",
      "/Users/stingl/anaconda3/envs/nd025_aktuell/lib/python3.7/site-packages/sklearn/svm/base.py:196: FutureWarning: The default value of gamma will change from 'auto' to 'scale' in version 0.22 to account better for unscaled features. Set gamma explicitly to 'auto' or 'scale' to avoid this warning.\n",
      "  \"avoid this warning.\", FutureWarning)\n",
      "/Users/stingl/anaconda3/envs/nd025_aktuell/lib/python3.7/site-packages/sklearn/svm/base.py:196: FutureWarning: The default value of gamma will change from 'auto' to 'scale' in version 0.22 to account better for unscaled features. Set gamma explicitly to 'auto' or 'scale' to avoid this warning.\n",
      "  \"avoid this warning.\", FutureWarning)\n",
      "/Users/stingl/anaconda3/envs/nd025_aktuell/lib/python3.7/site-packages/sklearn/svm/base.py:196: FutureWarning: The default value of gamma will change from 'auto' to 'scale' in version 0.22 to account better for unscaled features. Set gamma explicitly to 'auto' or 'scale' to avoid this warning.\n",
      "  \"avoid this warning.\", FutureWarning)\n",
      "/Users/stingl/anaconda3/envs/nd025_aktuell/lib/python3.7/site-packages/sklearn/svm/base.py:196: FutureWarning: The default value of gamma will change from 'auto' to 'scale' in version 0.22 to account better for unscaled features. Set gamma explicitly to 'auto' or 'scale' to avoid this warning.\n",
      "  \"avoid this warning.\", FutureWarning)\n",
      "/Users/stingl/anaconda3/envs/nd025_aktuell/lib/python3.7/site-packages/sklearn/svm/base.py:196: FutureWarning: The default value of gamma will change from 'auto' to 'scale' in version 0.22 to account better for unscaled features. Set gamma explicitly to 'auto' or 'scale' to avoid this warning.\n",
      "  \"avoid this warning.\", FutureWarning)\n",
      "/Users/stingl/anaconda3/envs/nd025_aktuell/lib/python3.7/site-packages/sklearn/svm/base.py:196: FutureWarning: The default value of gamma will change from 'auto' to 'scale' in version 0.22 to account better for unscaled features. Set gamma explicitly to 'auto' or 'scale' to avoid this warning.\n",
      "  \"avoid this warning.\", FutureWarning)\n",
      "/Users/stingl/anaconda3/envs/nd025_aktuell/lib/python3.7/site-packages/sklearn/svm/base.py:196: FutureWarning: The default value of gamma will change from 'auto' to 'scale' in version 0.22 to account better for unscaled features. Set gamma explicitly to 'auto' or 'scale' to avoid this warning.\n",
      "  \"avoid this warning.\", FutureWarning)\n",
      "/Users/stingl/anaconda3/envs/nd025_aktuell/lib/python3.7/site-packages/sklearn/svm/base.py:196: FutureWarning: The default value of gamma will change from 'auto' to 'scale' in version 0.22 to account better for unscaled features. Set gamma explicitly to 'auto' or 'scale' to avoid this warning.\n",
      "  \"avoid this warning.\", FutureWarning)\n",
      "/Users/stingl/anaconda3/envs/nd025_aktuell/lib/python3.7/site-packages/sklearn/svm/base.py:196: FutureWarning: The default value of gamma will change from 'auto' to 'scale' in version 0.22 to account better for unscaled features. Set gamma explicitly to 'auto' or 'scale' to avoid this warning.\n",
      "  \"avoid this warning.\", FutureWarning)\n",
      "/Users/stingl/anaconda3/envs/nd025_aktuell/lib/python3.7/site-packages/sklearn/svm/base.py:196: FutureWarning: The default value of gamma will change from 'auto' to 'scale' in version 0.22 to account better for unscaled features. Set gamma explicitly to 'auto' or 'scale' to avoid this warning.\n",
      "  \"avoid this warning.\", FutureWarning)\n",
      "/Users/stingl/anaconda3/envs/nd025_aktuell/lib/python3.7/site-packages/sklearn/svm/base.py:196: FutureWarning: The default value of gamma will change from 'auto' to 'scale' in version 0.22 to account better for unscaled features. Set gamma explicitly to 'auto' or 'scale' to avoid this warning.\n",
      "  \"avoid this warning.\", FutureWarning)\n",
      "/Users/stingl/anaconda3/envs/nd025_aktuell/lib/python3.7/site-packages/sklearn/svm/base.py:196: FutureWarning: The default value of gamma will change from 'auto' to 'scale' in version 0.22 to account better for unscaled features. Set gamma explicitly to 'auto' or 'scale' to avoid this warning.\n",
      "  \"avoid this warning.\", FutureWarning)\n",
      "/Users/stingl/anaconda3/envs/nd025_aktuell/lib/python3.7/site-packages/sklearn/svm/base.py:196: FutureWarning: The default value of gamma will change from 'auto' to 'scale' in version 0.22 to account better for unscaled features. Set gamma explicitly to 'auto' or 'scale' to avoid this warning.\n",
      "  \"avoid this warning.\", FutureWarning)\n",
      "/Users/stingl/anaconda3/envs/nd025_aktuell/lib/python3.7/site-packages/sklearn/svm/base.py:196: FutureWarning: The default value of gamma will change from 'auto' to 'scale' in version 0.22 to account better for unscaled features. Set gamma explicitly to 'auto' or 'scale' to avoid this warning.\n",
      "  \"avoid this warning.\", FutureWarning)\n",
      "/Users/stingl/anaconda3/envs/nd025_aktuell/lib/python3.7/site-packages/sklearn/svm/base.py:196: FutureWarning: The default value of gamma will change from 'auto' to 'scale' in version 0.22 to account better for unscaled features. Set gamma explicitly to 'auto' or 'scale' to avoid this warning.\n",
      "  \"avoid this warning.\", FutureWarning)\n"
     ]
    },
    {
     "name": "stderr",
     "output_type": "stream",
     "text": [
      "/Users/stingl/anaconda3/envs/nd025_aktuell/lib/python3.7/site-packages/sklearn/svm/base.py:196: FutureWarning: The default value of gamma will change from 'auto' to 'scale' in version 0.22 to account better for unscaled features. Set gamma explicitly to 'auto' or 'scale' to avoid this warning.\n",
      "  \"avoid this warning.\", FutureWarning)\n",
      "/Users/stingl/anaconda3/envs/nd025_aktuell/lib/python3.7/site-packages/sklearn/svm/base.py:196: FutureWarning: The default value of gamma will change from 'auto' to 'scale' in version 0.22 to account better for unscaled features. Set gamma explicitly to 'auto' or 'scale' to avoid this warning.\n",
      "  \"avoid this warning.\", FutureWarning)\n",
      "/Users/stingl/anaconda3/envs/nd025_aktuell/lib/python3.7/site-packages/sklearn/svm/base.py:196: FutureWarning: The default value of gamma will change from 'auto' to 'scale' in version 0.22 to account better for unscaled features. Set gamma explicitly to 'auto' or 'scale' to avoid this warning.\n",
      "  \"avoid this warning.\", FutureWarning)\n",
      "/Users/stingl/anaconda3/envs/nd025_aktuell/lib/python3.7/site-packages/sklearn/svm/base.py:196: FutureWarning: The default value of gamma will change from 'auto' to 'scale' in version 0.22 to account better for unscaled features. Set gamma explicitly to 'auto' or 'scale' to avoid this warning.\n",
      "  \"avoid this warning.\", FutureWarning)\n",
      "/Users/stingl/anaconda3/envs/nd025_aktuell/lib/python3.7/site-packages/sklearn/svm/base.py:196: FutureWarning: The default value of gamma will change from 'auto' to 'scale' in version 0.22 to account better for unscaled features. Set gamma explicitly to 'auto' or 'scale' to avoid this warning.\n",
      "  \"avoid this warning.\", FutureWarning)\n",
      "/Users/stingl/anaconda3/envs/nd025_aktuell/lib/python3.7/site-packages/sklearn/svm/base.py:196: FutureWarning: The default value of gamma will change from 'auto' to 'scale' in version 0.22 to account better for unscaled features. Set gamma explicitly to 'auto' or 'scale' to avoid this warning.\n",
      "  \"avoid this warning.\", FutureWarning)\n",
      "/Users/stingl/anaconda3/envs/nd025_aktuell/lib/python3.7/site-packages/sklearn/svm/base.py:196: FutureWarning: The default value of gamma will change from 'auto' to 'scale' in version 0.22 to account better for unscaled features. Set gamma explicitly to 'auto' or 'scale' to avoid this warning.\n",
      "  \"avoid this warning.\", FutureWarning)\n",
      "/Users/stingl/anaconda3/envs/nd025_aktuell/lib/python3.7/site-packages/sklearn/svm/base.py:196: FutureWarning: The default value of gamma will change from 'auto' to 'scale' in version 0.22 to account better for unscaled features. Set gamma explicitly to 'auto' or 'scale' to avoid this warning.\n",
      "  \"avoid this warning.\", FutureWarning)\n",
      "/Users/stingl/anaconda3/envs/nd025_aktuell/lib/python3.7/site-packages/sklearn/svm/base.py:196: FutureWarning: The default value of gamma will change from 'auto' to 'scale' in version 0.22 to account better for unscaled features. Set gamma explicitly to 'auto' or 'scale' to avoid this warning.\n",
      "  \"avoid this warning.\", FutureWarning)\n",
      "/Users/stingl/anaconda3/envs/nd025_aktuell/lib/python3.7/site-packages/sklearn/svm/base.py:196: FutureWarning: The default value of gamma will change from 'auto' to 'scale' in version 0.22 to account better for unscaled features. Set gamma explicitly to 'auto' or 'scale' to avoid this warning.\n",
      "  \"avoid this warning.\", FutureWarning)\n",
      "/Users/stingl/anaconda3/envs/nd025_aktuell/lib/python3.7/site-packages/sklearn/svm/base.py:196: FutureWarning: The default value of gamma will change from 'auto' to 'scale' in version 0.22 to account better for unscaled features. Set gamma explicitly to 'auto' or 'scale' to avoid this warning.\n",
      "  \"avoid this warning.\", FutureWarning)\n",
      "/Users/stingl/anaconda3/envs/nd025_aktuell/lib/python3.7/site-packages/sklearn/svm/base.py:196: FutureWarning: The default value of gamma will change from 'auto' to 'scale' in version 0.22 to account better for unscaled features. Set gamma explicitly to 'auto' or 'scale' to avoid this warning.\n",
      "  \"avoid this warning.\", FutureWarning)\n"
     ]
    },
    {
     "name": "stdout",
     "output_type": "stream",
     "text": [
      "{'mcfl__estimator__degree': 2, 'mcfl__estimator__kernel': 'poly'}\n",
      "0.3669025064350609\n",
      "              precision    recall  f1-score   support\n",
      "\n",
      "           0       0.76      1.00      0.86      5941\n",
      "           1       0.00      0.00      0.00      1333\n",
      "           2       0.00      0.00      0.00        34\n",
      "           3       0.00      0.00      0.00      3286\n",
      "           4       0.00      0.00      0.00       644\n",
      "           5       0.00      0.00      0.00       414\n",
      "           6       0.00      0.00      0.00       239\n",
      "           7       0.00      0.00      0.00       156\n",
      "           8       0.00      0.00      0.00       267\n",
      "           9       0.00      0.00      0.00       512\n",
      "          10       0.00      0.00      0.00       878\n",
      "          11       0.00      0.00      0.00       714\n",
      "          12       0.00      0.00      0.00       123\n",
      "          13       0.00      0.00      0.00       192\n",
      "          14       0.00      0.00      0.00        88\n",
      "          15       0.00      0.00      0.00       259\n",
      "          16       0.00      0.00      0.00       369\n",
      "          17       0.00      0.00      0.00      1021\n",
      "          18       0.00      0.00      0.00       521\n",
      "          19       0.00      0.00      0.00       362\n",
      "          20       0.00      0.00      0.00       430\n",
      "          21       0.00      0.00      0.00       148\n",
      "          22       0.00      0.00      0.00        46\n",
      "          23       0.00      0.00      0.00        90\n",
      "          24       0.00      0.00      0.00        39\n",
      "          25       0.00      0.00      0.00        86\n",
      "          26       0.00      0.00      0.00       350\n",
      "          27       0.00      0.00      0.00      2188\n",
      "          28       0.00      0.00      0.00       639\n",
      "          29       0.00      0.00      0.00       744\n",
      "          30       0.00      0.00      0.00        88\n",
      "          31       0.00      0.00      0.00       734\n",
      "          32       0.00      0.00      0.00       169\n",
      "          33       0.00      0.00      0.00       388\n",
      "          34       0.00      0.00      0.00      1547\n",
      "\n",
      "   micro avg       0.76      0.24      0.36     25039\n",
      "   macro avg       0.02      0.03      0.02     25039\n",
      "weighted avg       0.18      0.24      0.21     25039\n",
      " samples avg       0.76      0.32      0.39     25039\n",
      "\n"
     ]
    },
    {
     "name": "stderr",
     "output_type": "stream",
     "text": [
      "/Users/stingl/anaconda3/envs/nd025_aktuell/lib/python3.7/site-packages/sklearn/metrics/classification.py:1143: UndefinedMetricWarning: Precision and F-score are ill-defined and being set to 0.0 in labels with no predicted samples.\n",
      "  'precision', 'predicted', average, warn_for)\n",
      "/Users/stingl/anaconda3/envs/nd025_aktuell/lib/python3.7/site-packages/sklearn/metrics/classification.py:1145: UndefinedMetricWarning: Recall and F-score are ill-defined and being set to 0.0 in samples with no true labels.\n",
      "  'recall', 'true', average, warn_for)\n"
     ]
    }
   ],
   "source": [
    "X = df.iloc[:, 1]\n",
    "Y = df.iloc[:, 4:].drop(columns='child_alone')\n",
    "\n",
    "X_train, X_test, Y_train, Y_test = train_test_split(X, Y, test_size=0.3, random_state=42)\n",
    "\n",
    "pipeline = Pipeline([\n",
    "    ('vect', CountVectorizer(tokenizer=tokenize)),\n",
    "    ('tfidf', TfidfTransformer()),\n",
    "    ('mcfl', MultiOutputClassifier(estimator=SVC()))\n",
    "])\n",
    "\n",
    "parameters = {\n",
    "#     'mcfl__estimator__kernel' : ['linear', 'rbf', 'sigmoid'],\n",
    "    'mcfl__estimator__degree' : [2, 3, 4, 5, 6],\n",
    "    'mcfl__estimator__kernel' : ['poly'],\n",
    "}\n",
    "\n",
    "cv = GridSearchCV(pipeline, param_grid=parameters, verbose=10, cv=3, n_jobs=12, scoring='f1_micro')\n",
    "\n",
    "cv.fit(X_train, Y_train)\n",
    "Y_pred = cv.predict(X_test)\n",
    "print(cv.best_params_)\n",
    "print(cv.best_score_)\n",
    "print(classification_report(Y_test, Y_pred)) "
   ]
  },
  {
   "cell_type": "code",
   "execution_count": 19,
   "metadata": {},
   "outputs": [
    {
     "data": {
      "text/plain": [
       "{'memory': None,\n",
       " 'steps': [('vect',\n",
       "   CountVectorizer(analyzer='word', binary=False, decode_error='strict',\n",
       "           dtype=<class 'numpy.int64'>, encoding='utf-8', input='content',\n",
       "           lowercase=True, max_df=1.0, max_features=None, min_df=1,\n",
       "           ngram_range=(1, 1), preprocessor=None, stop_words=None,\n",
       "           strip_accents=None, token_pattern='(?u)\\\\b\\\\w\\\\w+\\\\b',\n",
       "           tokenizer=<function tokenize at 0x1a182ae200>, vocabulary=None)),\n",
       "  ('tfidf',\n",
       "   TfidfTransformer(norm='l2', smooth_idf=True, sublinear_tf=False, use_idf=True)),\n",
       "  ('mcfl',\n",
       "   MultiOutputClassifier(estimator=SVC(C=1.0, cache_size=200, class_weight=None, coef0=0.0,\n",
       "     decision_function_shape='ovr', degree=3, gamma='auto_deprecated',\n",
       "     kernel='rbf', max_iter=-1, probability=False, random_state=None,\n",
       "     shrinking=True, tol=0.001, verbose=False),\n",
       "              n_jobs=None))],\n",
       " 'vect': CountVectorizer(analyzer='word', binary=False, decode_error='strict',\n",
       "         dtype=<class 'numpy.int64'>, encoding='utf-8', input='content',\n",
       "         lowercase=True, max_df=1.0, max_features=None, min_df=1,\n",
       "         ngram_range=(1, 1), preprocessor=None, stop_words=None,\n",
       "         strip_accents=None, token_pattern='(?u)\\\\b\\\\w\\\\w+\\\\b',\n",
       "         tokenizer=<function tokenize at 0x1a182ae200>, vocabulary=None),\n",
       " 'tfidf': TfidfTransformer(norm='l2', smooth_idf=True, sublinear_tf=False, use_idf=True),\n",
       " 'mcfl': MultiOutputClassifier(estimator=SVC(C=1.0, cache_size=200, class_weight=None, coef0=0.0,\n",
       "   decision_function_shape='ovr', degree=3, gamma='auto_deprecated',\n",
       "   kernel='rbf', max_iter=-1, probability=False, random_state=None,\n",
       "   shrinking=True, tol=0.001, verbose=False),\n",
       "            n_jobs=None),\n",
       " 'vect__analyzer': 'word',\n",
       " 'vect__binary': False,\n",
       " 'vect__decode_error': 'strict',\n",
       " 'vect__dtype': numpy.int64,\n",
       " 'vect__encoding': 'utf-8',\n",
       " 'vect__input': 'content',\n",
       " 'vect__lowercase': True,\n",
       " 'vect__max_df': 1.0,\n",
       " 'vect__max_features': None,\n",
       " 'vect__min_df': 1,\n",
       " 'vect__ngram_range': (1, 1),\n",
       " 'vect__preprocessor': None,\n",
       " 'vect__stop_words': None,\n",
       " 'vect__strip_accents': None,\n",
       " 'vect__token_pattern': '(?u)\\\\b\\\\w\\\\w+\\\\b',\n",
       " 'vect__tokenizer': <function __main__.tokenize(text)>,\n",
       " 'vect__vocabulary': None,\n",
       " 'tfidf__norm': 'l2',\n",
       " 'tfidf__smooth_idf': True,\n",
       " 'tfidf__sublinear_tf': False,\n",
       " 'tfidf__use_idf': True,\n",
       " 'mcfl__estimator__C': 1.0,\n",
       " 'mcfl__estimator__cache_size': 200,\n",
       " 'mcfl__estimator__class_weight': None,\n",
       " 'mcfl__estimator__coef0': 0.0,\n",
       " 'mcfl__estimator__decision_function_shape': 'ovr',\n",
       " 'mcfl__estimator__degree': 3,\n",
       " 'mcfl__estimator__gamma': 'auto_deprecated',\n",
       " 'mcfl__estimator__kernel': 'rbf',\n",
       " 'mcfl__estimator__max_iter': -1,\n",
       " 'mcfl__estimator__probability': False,\n",
       " 'mcfl__estimator__random_state': None,\n",
       " 'mcfl__estimator__shrinking': True,\n",
       " 'mcfl__estimator__tol': 0.001,\n",
       " 'mcfl__estimator__verbose': False,\n",
       " 'mcfl__estimator': SVC(C=1.0, cache_size=200, class_weight=None, coef0=0.0,\n",
       "   decision_function_shape='ovr', degree=3, gamma='auto_deprecated',\n",
       "   kernel='rbf', max_iter=-1, probability=False, random_state=None,\n",
       "   shrinking=True, tol=0.001, verbose=False),\n",
       " 'mcfl__n_jobs': None}"
      ]
     },
     "execution_count": 19,
     "metadata": {},
     "output_type": "execute_result"
    }
   ],
   "source": [
    "pipeline.get_params()"
   ]
  },
  {
   "cell_type": "code",
   "execution_count": 20,
   "metadata": {},
   "outputs": [
    {
     "name": "stdout",
     "output_type": "stream",
     "text": [
      "Fitting 3 folds for each of 4 candidates, totalling 12 fits\n"
     ]
    },
    {
     "name": "stderr",
     "output_type": "stream",
     "text": [
      "[Parallel(n_jobs=12)]: Using backend LokyBackend with 12 concurrent workers.\n",
      "[Parallel(n_jobs=12)]: Done   1 tasks      | elapsed:   38.4s\n",
      "[Parallel(n_jobs=12)]: Done   3 out of  12 | elapsed:   39.3s remaining:  2.0min\n",
      "[Parallel(n_jobs=12)]: Done   5 out of  12 | elapsed:   42.2s remaining:   59.1s\n",
      "[Parallel(n_jobs=12)]: Done   7 out of  12 | elapsed:   42.3s remaining:   30.2s\n",
      "[Parallel(n_jobs=12)]: Done   9 out of  12 | elapsed:   42.3s remaining:   14.1s\n",
      "[Parallel(n_jobs=12)]: Done  12 out of  12 | elapsed:   43.9s finished\n",
      "/Users/stingl/anaconda3/envs/nd025_aktuell/lib/python3.7/site-packages/sklearn/svm/base.py:931: ConvergenceWarning: Liblinear failed to converge, increase the number of iterations.\n",
      "  \"the number of iterations.\", ConvergenceWarning)\n"
     ]
    },
    {
     "data": {
      "text/plain": [
       "GridSearchCV(cv=3, error_score='raise-deprecating',\n",
       "       estimator=Pipeline(memory=None,\n",
       "     steps=[('vect', CountVectorizer(analyzer='word', binary=False, decode_error='strict',\n",
       "        dtype=<class 'numpy.int64'>, encoding='utf-8', input='content',\n",
       "        lowercase=True, max_df=1.0, max_features=None, min_df=1,\n",
       "        ngram_range=(1, 1), preprocessor=None, stop_words=None,\n",
       "        strip...class='ovr', penalty='l2', random_state=None, tol=0.0001,\n",
       "     verbose=0),\n",
       "           n_jobs=None))]),\n",
       "       fit_params=None, iid='warn', n_jobs=12,\n",
       "       param_grid={'mcfl__estimator__C': [1], 'mcfl__estimator__loss': ['hinge', 'squared_hinge'], 'mcfl__estimator__max_iter': [1000, 10000]},\n",
       "       pre_dispatch='2*n_jobs', refit=True, return_train_score='warn',\n",
       "       scoring='f1_micro', verbose=10)"
      ]
     },
     "execution_count": 20,
     "metadata": {},
     "output_type": "execute_result"
    }
   ],
   "source": [
    "from sklearn.svm import LinearSVC\n",
    "X = df.iloc[:, 1]\n",
    "Y = df.iloc[:, 4:].drop(columns='child_alone')\n",
    "\n",
    "X_train, X_test, Y_train, Y_test = train_test_split(X, Y, test_size=0.3, random_state=42)\n",
    "\n",
    "pipeline = Pipeline([\n",
    "    ('vect', CountVectorizer(tokenizer=tokenize)),\n",
    "    ('tfidf', TfidfTransformer()),\n",
    "    ('mcfl', MultiOutputClassifier(estimator=LinearSVC()))\n",
    "])\n",
    "\n",
    "parameters = {\n",
    "    'mcfl__estimator__C' : [1],\n",
    "    'mcfl__estimator__loss' : ['hinge', 'squared_hinge'],\n",
    "    'mcfl__estimator__max_iter' : [1000, 10000]\n",
    "}\n",
    "\n",
    "cv = GridSearchCV(pipeline, param_grid=parameters, verbose=10, cv=3, n_jobs=12, scoring='f1_micro')\n",
    "\n",
    "cv.fit(X_train, Y_train)"
   ]
  },
  {
   "cell_type": "code",
   "execution_count": 21,
   "metadata": {},
   "outputs": [
    {
     "name": "stdout",
     "output_type": "stream",
     "text": [
      "{'mcfl__estimator__C': 1, 'mcfl__estimator__loss': 'hinge', 'mcfl__estimator__max_iter': 1000}\n",
      "0.6772156709563802\n",
      "              precision    recall  f1-score   support\n",
      "\n",
      "           0       0.86      0.93      0.89      5941\n",
      "           1       0.78      0.58      0.67      1333\n",
      "           2       0.00      0.00      0.00        34\n",
      "           3       0.75      0.69      0.72      3286\n",
      "           4       0.65      0.20      0.31       644\n",
      "           5       0.75      0.26      0.39       414\n",
      "           6       0.79      0.13      0.22       239\n",
      "           7       0.00      0.00      0.00       156\n",
      "           8       0.67      0.25      0.37       267\n",
      "           9       0.75      0.66      0.70       512\n",
      "          10       0.79      0.76      0.77       878\n",
      "          11       0.80      0.55      0.65       714\n",
      "          12       0.76      0.45      0.56       123\n",
      "          13       0.81      0.13      0.22       192\n",
      "          14       0.57      0.18      0.28        88\n",
      "          15       0.62      0.19      0.29       259\n",
      "          16       0.78      0.44      0.56       369\n",
      "          17       0.58      0.09      0.15      1021\n",
      "          18       0.33      0.00      0.01       521\n",
      "          19       0.66      0.20      0.31       362\n",
      "          20       0.79      0.35      0.48       430\n",
      "          21       0.77      0.23      0.35       148\n",
      "          22       0.00      0.00      0.00        46\n",
      "          23       0.00      0.00      0.00        90\n",
      "          24       0.00      0.00      0.00        39\n",
      "          25       0.00      0.00      0.00        86\n",
      "          26       0.25      0.00      0.01       350\n",
      "          27       0.85      0.73      0.78      2188\n",
      "          28       0.91      0.56      0.70       639\n",
      "          29       0.76      0.65      0.70       744\n",
      "          30       0.68      0.26      0.38        88\n",
      "          31       0.89      0.80      0.84       734\n",
      "          32       0.71      0.27      0.39       169\n",
      "          33       0.77      0.08      0.14       388\n",
      "          34       0.73      0.47      0.57      1547\n",
      "\n",
      "   micro avg       0.81      0.59      0.68     25039\n",
      "   macro avg       0.60      0.32      0.38     25039\n",
      "weighted avg       0.76      0.59      0.63     25039\n",
      " samples avg       0.63      0.50      0.52     25039\n",
      "\n"
     ]
    },
    {
     "name": "stderr",
     "output_type": "stream",
     "text": [
      "/Users/stingl/anaconda3/envs/nd025_aktuell/lib/python3.7/site-packages/sklearn/metrics/classification.py:1143: UndefinedMetricWarning: Precision and F-score are ill-defined and being set to 0.0 in labels with no predicted samples.\n",
      "  'precision', 'predicted', average, warn_for)\n",
      "/Users/stingl/anaconda3/envs/nd025_aktuell/lib/python3.7/site-packages/sklearn/metrics/classification.py:1143: UndefinedMetricWarning: Precision and F-score are ill-defined and being set to 0.0 in samples with no predicted labels.\n",
      "  'precision', 'predicted', average, warn_for)\n",
      "/Users/stingl/anaconda3/envs/nd025_aktuell/lib/python3.7/site-packages/sklearn/metrics/classification.py:1145: UndefinedMetricWarning: Recall and F-score are ill-defined and being set to 0.0 in samples with no true labels.\n",
      "  'recall', 'true', average, warn_for)\n"
     ]
    }
   ],
   "source": [
    "Y_pred = cv.predict(X_test)\n",
    "print(cv.best_params_)\n",
    "print(cv.best_score_)\n",
    "print(classification_report(Y_test, Y_pred))"
   ]
  },
  {
   "cell_type": "code",
   "execution_count": 22,
   "metadata": {},
   "outputs": [
    {
     "data": {
      "text/plain": [
       "{'cv': 3,\n",
       " 'error_score': 'raise-deprecating',\n",
       " 'estimator__memory': None,\n",
       " 'estimator__steps': [('vect',\n",
       "   CountVectorizer(analyzer='word', binary=False, decode_error='strict',\n",
       "           dtype=<class 'numpy.int64'>, encoding='utf-8', input='content',\n",
       "           lowercase=True, max_df=1.0, max_features=None, min_df=1,\n",
       "           ngram_range=(1, 1), preprocessor=None, stop_words=None,\n",
       "           strip_accents=None, token_pattern='(?u)\\\\b\\\\w\\\\w+\\\\b',\n",
       "           tokenizer=<function tokenize at 0x1a182ae200>, vocabulary=None)),\n",
       "  ('tfidf',\n",
       "   TfidfTransformer(norm='l2', smooth_idf=True, sublinear_tf=False, use_idf=True)),\n",
       "  ('mcfl',\n",
       "   MultiOutputClassifier(estimator=LinearSVC(C=1.0, class_weight=None, dual=True, fit_intercept=True,\n",
       "        intercept_scaling=1, loss='squared_hinge', max_iter=1000,\n",
       "        multi_class='ovr', penalty='l2', random_state=None, tol=0.0001,\n",
       "        verbose=0),\n",
       "              n_jobs=None))],\n",
       " 'estimator__vect': CountVectorizer(analyzer='word', binary=False, decode_error='strict',\n",
       "         dtype=<class 'numpy.int64'>, encoding='utf-8', input='content',\n",
       "         lowercase=True, max_df=1.0, max_features=None, min_df=1,\n",
       "         ngram_range=(1, 1), preprocessor=None, stop_words=None,\n",
       "         strip_accents=None, token_pattern='(?u)\\\\b\\\\w\\\\w+\\\\b',\n",
       "         tokenizer=<function tokenize at 0x1a182ae200>, vocabulary=None),\n",
       " 'estimator__tfidf': TfidfTransformer(norm='l2', smooth_idf=True, sublinear_tf=False, use_idf=True),\n",
       " 'estimator__mcfl': MultiOutputClassifier(estimator=LinearSVC(C=1.0, class_weight=None, dual=True, fit_intercept=True,\n",
       "      intercept_scaling=1, loss='squared_hinge', max_iter=1000,\n",
       "      multi_class='ovr', penalty='l2', random_state=None, tol=0.0001,\n",
       "      verbose=0),\n",
       "            n_jobs=None),\n",
       " 'estimator__vect__analyzer': 'word',\n",
       " 'estimator__vect__binary': False,\n",
       " 'estimator__vect__decode_error': 'strict',\n",
       " 'estimator__vect__dtype': numpy.int64,\n",
       " 'estimator__vect__encoding': 'utf-8',\n",
       " 'estimator__vect__input': 'content',\n",
       " 'estimator__vect__lowercase': True,\n",
       " 'estimator__vect__max_df': 1.0,\n",
       " 'estimator__vect__max_features': None,\n",
       " 'estimator__vect__min_df': 1,\n",
       " 'estimator__vect__ngram_range': (1, 1),\n",
       " 'estimator__vect__preprocessor': None,\n",
       " 'estimator__vect__stop_words': None,\n",
       " 'estimator__vect__strip_accents': None,\n",
       " 'estimator__vect__token_pattern': '(?u)\\\\b\\\\w\\\\w+\\\\b',\n",
       " 'estimator__vect__tokenizer': <function __main__.tokenize(text)>,\n",
       " 'estimator__vect__vocabulary': None,\n",
       " 'estimator__tfidf__norm': 'l2',\n",
       " 'estimator__tfidf__smooth_idf': True,\n",
       " 'estimator__tfidf__sublinear_tf': False,\n",
       " 'estimator__tfidf__use_idf': True,\n",
       " 'estimator__mcfl__estimator__C': 1.0,\n",
       " 'estimator__mcfl__estimator__class_weight': None,\n",
       " 'estimator__mcfl__estimator__dual': True,\n",
       " 'estimator__mcfl__estimator__fit_intercept': True,\n",
       " 'estimator__mcfl__estimator__intercept_scaling': 1,\n",
       " 'estimator__mcfl__estimator__loss': 'squared_hinge',\n",
       " 'estimator__mcfl__estimator__max_iter': 1000,\n",
       " 'estimator__mcfl__estimator__multi_class': 'ovr',\n",
       " 'estimator__mcfl__estimator__penalty': 'l2',\n",
       " 'estimator__mcfl__estimator__random_state': None,\n",
       " 'estimator__mcfl__estimator__tol': 0.0001,\n",
       " 'estimator__mcfl__estimator__verbose': 0,\n",
       " 'estimator__mcfl__estimator': LinearSVC(C=1.0, class_weight=None, dual=True, fit_intercept=True,\n",
       "      intercept_scaling=1, loss='squared_hinge', max_iter=1000,\n",
       "      multi_class='ovr', penalty='l2', random_state=None, tol=0.0001,\n",
       "      verbose=0),\n",
       " 'estimator__mcfl__n_jobs': None,\n",
       " 'estimator': Pipeline(memory=None,\n",
       "      steps=[('vect', CountVectorizer(analyzer='word', binary=False, decode_error='strict',\n",
       "         dtype=<class 'numpy.int64'>, encoding='utf-8', input='content',\n",
       "         lowercase=True, max_df=1.0, max_features=None, min_df=1,\n",
       "         ngram_range=(1, 1), preprocessor=None, stop_words=None,\n",
       "         strip...class='ovr', penalty='l2', random_state=None, tol=0.0001,\n",
       "      verbose=0),\n",
       "            n_jobs=None))]),\n",
       " 'fit_params': None,\n",
       " 'iid': 'warn',\n",
       " 'n_jobs': 12,\n",
       " 'param_grid': {'mcfl__estimator__C': [1],\n",
       "  'mcfl__estimator__loss': ['hinge', 'squared_hinge'],\n",
       "  'mcfl__estimator__max_iter': [1000, 10000]},\n",
       " 'pre_dispatch': '2*n_jobs',\n",
       " 'refit': True,\n",
       " 'return_train_score': 'warn',\n",
       " 'scoring': 'f1_micro',\n",
       " 'verbose': 10}"
      ]
     },
     "execution_count": 22,
     "metadata": {},
     "output_type": "execute_result"
    }
   ],
   "source": [
    "cv.get_params()"
   ]
  },
  {
   "cell_type": "code",
   "execution_count": 23,
   "metadata": {},
   "outputs": [
    {
     "name": "stdout",
     "output_type": "stream",
     "text": [
      "Fitting 3 folds for each of 4 candidates, totalling 12 fits\n"
     ]
    },
    {
     "name": "stderr",
     "output_type": "stream",
     "text": [
      "[Parallel(n_jobs=12)]: Using backend LokyBackend with 12 concurrent workers.\n",
      "[Parallel(n_jobs=12)]: Done   1 tasks      | elapsed:   41.1s\n",
      "[Parallel(n_jobs=12)]: Done   3 out of  12 | elapsed:   41.2s remaining:  2.1min\n",
      "[Parallel(n_jobs=12)]: Done   5 out of  12 | elapsed:   41.4s remaining:   57.9s\n",
      "[Parallel(n_jobs=12)]: Done   7 out of  12 | elapsed:   41.5s remaining:   29.6s\n",
      "[Parallel(n_jobs=12)]: Done   9 out of  12 | elapsed:   41.5s remaining:   13.8s\n",
      "[Parallel(n_jobs=12)]: Done  12 out of  12 | elapsed:   41.7s finished\n",
      "/Users/stingl/anaconda3/envs/nd025_aktuell/lib/python3.7/site-packages/sklearn/naive_bayes.py:465: RuntimeWarning: divide by zero encountered in log\n",
      "  self.class_log_prior_ = (np.log(self.class_count_) -\n"
     ]
    },
    {
     "data": {
      "text/plain": [
       "GridSearchCV(cv=3, error_score='raise-deprecating',\n",
       "       estimator=Pipeline(memory=None,\n",
       "     steps=[('vect', CountVectorizer(analyzer='word', binary=False, decode_error='strict',\n",
       "        dtype=<class 'numpy.int64'>, encoding='utf-8', input='content',\n",
       "        lowercase=True, max_df=1.0, max_features=None, min_df=1,\n",
       "        ngram_range=(1, 1), preprocessor=None, stop_words=None,\n",
       "        strip...fier(estimator=MultinomialNB(alpha=1.0, class_prior=None, fit_prior=True),\n",
       "           n_jobs=None))]),\n",
       "       fit_params=None, iid='warn', n_jobs=12,\n",
       "       param_grid={'mcfl__estimator__alpha': [0.01, 0.1, 1, 10]},\n",
       "       pre_dispatch='2*n_jobs', refit=True, return_train_score='warn',\n",
       "       scoring='f1_micro', verbose=10)"
      ]
     },
     "execution_count": 23,
     "metadata": {},
     "output_type": "execute_result"
    }
   ],
   "source": [
    "from sklearn.naive_bayes import MultinomialNB\n",
    "X = df.iloc[:, 1]\n",
    "Y = df.iloc[:, 4:] #.drop(columns='child_alone')\n",
    "\n",
    "X_train, X_test, Y_train, Y_test = train_test_split(X, Y, test_size=0.3, random_state=42)\n",
    "\n",
    "pipeline = Pipeline([\n",
    "    ('vect', CountVectorizer(tokenizer=tokenize)),\n",
    "    ('tfidf', TfidfTransformer()),\n",
    "    ('mcfl', MultiOutputClassifier(estimator=MultinomialNB()))\n",
    "])\n",
    "\n",
    "parameters = {\n",
    "    'mcfl__estimator__alpha' : [0.01, 0.1, 1, 10]\n",
    "}\n",
    "\n",
    "cv = GridSearchCV(pipeline, param_grid=parameters, verbose=10, cv=3, n_jobs=12, scoring='f1_micro')\n",
    "\n",
    "cv.fit(X_train, Y_train)"
   ]
  },
  {
   "cell_type": "code",
   "execution_count": 24,
   "metadata": {},
   "outputs": [
    {
     "name": "stdout",
     "output_type": "stream",
     "text": [
      "{'mcfl__estimator__alpha': 0.01}\n",
      "0.587659155515815\n",
      "              precision    recall  f1-score   support\n",
      "\n",
      "           0       0.83      0.94      0.88      5941\n",
      "           1       0.67      0.59      0.63      1333\n",
      "           2       0.00      0.00      0.00        34\n",
      "           3       0.67      0.66      0.66      3286\n",
      "           4       0.54      0.21      0.30       644\n",
      "           5       0.49      0.22      0.30       414\n",
      "           6       0.58      0.06      0.11       239\n",
      "           7       0.17      0.01      0.02       156\n",
      "           8       0.55      0.30      0.39       267\n",
      "           9       0.00      0.00      0.00         0\n",
      "          10       0.51      0.20      0.28       512\n",
      "          11       0.61      0.37      0.46       878\n",
      "          12       0.59      0.27      0.37       714\n",
      "          13       0.48      0.24      0.32       123\n",
      "          14       0.51      0.10      0.17       192\n",
      "          15       0.25      0.02      0.04        88\n",
      "          16       0.23      0.04      0.07       259\n",
      "          17       0.60      0.22      0.32       369\n",
      "          18       0.26      0.05      0.08      1021\n",
      "          19       0.24      0.06      0.09       521\n",
      "          20       0.52      0.14      0.22       362\n",
      "          21       0.56      0.16      0.25       430\n",
      "          22       0.44      0.09      0.16       148\n",
      "          23       0.00      0.00      0.00        46\n",
      "          24       0.40      0.02      0.04        90\n",
      "          25       0.00      0.00      0.00        39\n",
      "          26       0.11      0.01      0.02        86\n",
      "          27       0.24      0.05      0.08       350\n",
      "          28       0.70      0.60      0.65      2188\n",
      "          29       0.60      0.38      0.46       639\n",
      "          30       0.63      0.41      0.50       744\n",
      "          31       0.50      0.10      0.17        88\n",
      "          32       0.79      0.44      0.57       734\n",
      "          33       0.59      0.16      0.25       169\n",
      "          34       0.24      0.05      0.09       388\n",
      "          35       0.63      0.50      0.56      1547\n",
      "\n",
      "   micro avg       0.70      0.51      0.59     25039\n",
      "   macro avg       0.44      0.21      0.26     25039\n",
      "weighted avg       0.63      0.51      0.54     25039\n",
      " samples avg       0.61      0.47      0.47     25039\n",
      "\n"
     ]
    },
    {
     "name": "stderr",
     "output_type": "stream",
     "text": [
      "/Users/stingl/anaconda3/envs/nd025_aktuell/lib/python3.7/site-packages/sklearn/metrics/classification.py:1143: UndefinedMetricWarning: Precision and F-score are ill-defined and being set to 0.0 in labels with no predicted samples.\n",
      "  'precision', 'predicted', average, warn_for)\n",
      "/Users/stingl/anaconda3/envs/nd025_aktuell/lib/python3.7/site-packages/sklearn/metrics/classification.py:1145: UndefinedMetricWarning: Recall and F-score are ill-defined and being set to 0.0 in labels with no true samples.\n",
      "  'recall', 'true', average, warn_for)\n",
      "/Users/stingl/anaconda3/envs/nd025_aktuell/lib/python3.7/site-packages/sklearn/metrics/classification.py:1143: UndefinedMetricWarning: Precision and F-score are ill-defined and being set to 0.0 in samples with no predicted labels.\n",
      "  'precision', 'predicted', average, warn_for)\n",
      "/Users/stingl/anaconda3/envs/nd025_aktuell/lib/python3.7/site-packages/sklearn/metrics/classification.py:1145: UndefinedMetricWarning: Recall and F-score are ill-defined and being set to 0.0 in samples with no true labels.\n",
      "  'recall', 'true', average, warn_for)\n"
     ]
    }
   ],
   "source": [
    "Y_pred = cv.predict(X_test)\n",
    "print(cv.best_params_)\n",
    "print(cv.best_score_)\n",
    "print(classification_report(Y_test, Y_pred))"
   ]
  },
  {
   "cell_type": "code",
   "execution_count": 25,
   "metadata": {},
   "outputs": [
    {
     "data": {
      "text/plain": [
       "{'cv': 3,\n",
       " 'error_score': 'raise-deprecating',\n",
       " 'estimator__memory': None,\n",
       " 'estimator__steps': [('vect',\n",
       "   CountVectorizer(analyzer='word', binary=False, decode_error='strict',\n",
       "           dtype=<class 'numpy.int64'>, encoding='utf-8', input='content',\n",
       "           lowercase=True, max_df=1.0, max_features=None, min_df=1,\n",
       "           ngram_range=(1, 1), preprocessor=None, stop_words=None,\n",
       "           strip_accents=None, token_pattern='(?u)\\\\b\\\\w\\\\w+\\\\b',\n",
       "           tokenizer=<function tokenize at 0x1a182ae200>, vocabulary=None)),\n",
       "  ('tfidf',\n",
       "   TfidfTransformer(norm='l2', smooth_idf=True, sublinear_tf=False, use_idf=True)),\n",
       "  ('mcfl',\n",
       "   MultiOutputClassifier(estimator=MultinomialNB(alpha=1.0, class_prior=None, fit_prior=True),\n",
       "              n_jobs=None))],\n",
       " 'estimator__vect': CountVectorizer(analyzer='word', binary=False, decode_error='strict',\n",
       "         dtype=<class 'numpy.int64'>, encoding='utf-8', input='content',\n",
       "         lowercase=True, max_df=1.0, max_features=None, min_df=1,\n",
       "         ngram_range=(1, 1), preprocessor=None, stop_words=None,\n",
       "         strip_accents=None, token_pattern='(?u)\\\\b\\\\w\\\\w+\\\\b',\n",
       "         tokenizer=<function tokenize at 0x1a182ae200>, vocabulary=None),\n",
       " 'estimator__tfidf': TfidfTransformer(norm='l2', smooth_idf=True, sublinear_tf=False, use_idf=True),\n",
       " 'estimator__mcfl': MultiOutputClassifier(estimator=MultinomialNB(alpha=1.0, class_prior=None, fit_prior=True),\n",
       "            n_jobs=None),\n",
       " 'estimator__vect__analyzer': 'word',\n",
       " 'estimator__vect__binary': False,\n",
       " 'estimator__vect__decode_error': 'strict',\n",
       " 'estimator__vect__dtype': numpy.int64,\n",
       " 'estimator__vect__encoding': 'utf-8',\n",
       " 'estimator__vect__input': 'content',\n",
       " 'estimator__vect__lowercase': True,\n",
       " 'estimator__vect__max_df': 1.0,\n",
       " 'estimator__vect__max_features': None,\n",
       " 'estimator__vect__min_df': 1,\n",
       " 'estimator__vect__ngram_range': (1, 1),\n",
       " 'estimator__vect__preprocessor': None,\n",
       " 'estimator__vect__stop_words': None,\n",
       " 'estimator__vect__strip_accents': None,\n",
       " 'estimator__vect__token_pattern': '(?u)\\\\b\\\\w\\\\w+\\\\b',\n",
       " 'estimator__vect__tokenizer': <function __main__.tokenize(text)>,\n",
       " 'estimator__vect__vocabulary': None,\n",
       " 'estimator__tfidf__norm': 'l2',\n",
       " 'estimator__tfidf__smooth_idf': True,\n",
       " 'estimator__tfidf__sublinear_tf': False,\n",
       " 'estimator__tfidf__use_idf': True,\n",
       " 'estimator__mcfl__estimator__alpha': 1.0,\n",
       " 'estimator__mcfl__estimator__class_prior': None,\n",
       " 'estimator__mcfl__estimator__fit_prior': True,\n",
       " 'estimator__mcfl__estimator': MultinomialNB(alpha=1.0, class_prior=None, fit_prior=True),\n",
       " 'estimator__mcfl__n_jobs': None,\n",
       " 'estimator': Pipeline(memory=None,\n",
       "      steps=[('vect', CountVectorizer(analyzer='word', binary=False, decode_error='strict',\n",
       "         dtype=<class 'numpy.int64'>, encoding='utf-8', input='content',\n",
       "         lowercase=True, max_df=1.0, max_features=None, min_df=1,\n",
       "         ngram_range=(1, 1), preprocessor=None, stop_words=None,\n",
       "         strip...fier(estimator=MultinomialNB(alpha=1.0, class_prior=None, fit_prior=True),\n",
       "            n_jobs=None))]),\n",
       " 'fit_params': None,\n",
       " 'iid': 'warn',\n",
       " 'n_jobs': 12,\n",
       " 'param_grid': {'mcfl__estimator__alpha': [0.01, 0.1, 1, 10]},\n",
       " 'pre_dispatch': '2*n_jobs',\n",
       " 'refit': True,\n",
       " 'return_train_score': 'warn',\n",
       " 'scoring': 'f1_micro',\n",
       " 'verbose': 10}"
      ]
     },
     "execution_count": 25,
     "metadata": {},
     "output_type": "execute_result"
    }
   ],
   "source": [
    "cv.get_params()"
   ]
  },
  {
   "cell_type": "markdown",
   "metadata": {},
   "source": [
    "### 9. Export your model as a pickle file"
   ]
  },
  {
   "cell_type": "code",
   "execution_count": 26,
   "metadata": {},
   "outputs": [
    {
     "data": {
      "text/plain": [
       "['classifier.pkl']"
      ]
     },
     "execution_count": 26,
     "metadata": {},
     "output_type": "execute_result"
    }
   ],
   "source": [
    "joblib.dump(cv.best_estimator_, 'classifier.pkl', compress = 1)"
   ]
  },
  {
   "cell_type": "code",
   "execution_count": 27,
   "metadata": {},
   "outputs": [
    {
     "data": {
      "text/html": [
       "<div>\n",
       "<style scoped>\n",
       "    .dataframe tbody tr th:only-of-type {\n",
       "        vertical-align: middle;\n",
       "    }\n",
       "\n",
       "    .dataframe tbody tr th {\n",
       "        vertical-align: top;\n",
       "    }\n",
       "\n",
       "    .dataframe thead th {\n",
       "        text-align: right;\n",
       "    }\n",
       "</style>\n",
       "<table border=\"1\" class=\"dataframe\">\n",
       "  <thead>\n",
       "    <tr style=\"text-align: right;\">\n",
       "      <th></th>\n",
       "      <th>0</th>\n",
       "      <th>1</th>\n",
       "      <th>2</th>\n",
       "      <th>3</th>\n",
       "      <th>4</th>\n",
       "      <th>5</th>\n",
       "      <th>6</th>\n",
       "      <th>7</th>\n",
       "      <th>8</th>\n",
       "      <th>9</th>\n",
       "      <th>...</th>\n",
       "      <th>26</th>\n",
       "      <th>27</th>\n",
       "      <th>28</th>\n",
       "      <th>29</th>\n",
       "      <th>30</th>\n",
       "      <th>31</th>\n",
       "      <th>32</th>\n",
       "      <th>33</th>\n",
       "      <th>34</th>\n",
       "      <th>35</th>\n",
       "    </tr>\n",
       "  </thead>\n",
       "  <tbody>\n",
       "    <tr>\n",
       "      <th>0</th>\n",
       "      <td>1</td>\n",
       "      <td>0</td>\n",
       "      <td>0</td>\n",
       "      <td>0</td>\n",
       "      <td>0</td>\n",
       "      <td>0</td>\n",
       "      <td>0</td>\n",
       "      <td>0</td>\n",
       "      <td>0</td>\n",
       "      <td>0</td>\n",
       "      <td>...</td>\n",
       "      <td>0</td>\n",
       "      <td>0</td>\n",
       "      <td>0</td>\n",
       "      <td>0</td>\n",
       "      <td>0</td>\n",
       "      <td>0</td>\n",
       "      <td>0</td>\n",
       "      <td>0</td>\n",
       "      <td>0</td>\n",
       "      <td>0</td>\n",
       "    </tr>\n",
       "    <tr>\n",
       "      <th>1</th>\n",
       "      <td>1</td>\n",
       "      <td>0</td>\n",
       "      <td>0</td>\n",
       "      <td>0</td>\n",
       "      <td>0</td>\n",
       "      <td>0</td>\n",
       "      <td>0</td>\n",
       "      <td>0</td>\n",
       "      <td>0</td>\n",
       "      <td>0</td>\n",
       "      <td>...</td>\n",
       "      <td>0</td>\n",
       "      <td>0</td>\n",
       "      <td>1</td>\n",
       "      <td>0</td>\n",
       "      <td>1</td>\n",
       "      <td>0</td>\n",
       "      <td>0</td>\n",
       "      <td>0</td>\n",
       "      <td>0</td>\n",
       "      <td>0</td>\n",
       "    </tr>\n",
       "    <tr>\n",
       "      <th>2</th>\n",
       "      <td>1</td>\n",
       "      <td>0</td>\n",
       "      <td>0</td>\n",
       "      <td>0</td>\n",
       "      <td>0</td>\n",
       "      <td>0</td>\n",
       "      <td>0</td>\n",
       "      <td>0</td>\n",
       "      <td>0</td>\n",
       "      <td>0</td>\n",
       "      <td>...</td>\n",
       "      <td>0</td>\n",
       "      <td>0</td>\n",
       "      <td>0</td>\n",
       "      <td>0</td>\n",
       "      <td>0</td>\n",
       "      <td>0</td>\n",
       "      <td>0</td>\n",
       "      <td>0</td>\n",
       "      <td>0</td>\n",
       "      <td>0</td>\n",
       "    </tr>\n",
       "    <tr>\n",
       "      <th>3</th>\n",
       "      <td>1</td>\n",
       "      <td>0</td>\n",
       "      <td>0</td>\n",
       "      <td>0</td>\n",
       "      <td>0</td>\n",
       "      <td>0</td>\n",
       "      <td>0</td>\n",
       "      <td>0</td>\n",
       "      <td>0</td>\n",
       "      <td>0</td>\n",
       "      <td>...</td>\n",
       "      <td>0</td>\n",
       "      <td>0</td>\n",
       "      <td>1</td>\n",
       "      <td>0</td>\n",
       "      <td>0</td>\n",
       "      <td>0</td>\n",
       "      <td>1</td>\n",
       "      <td>0</td>\n",
       "      <td>0</td>\n",
       "      <td>0</td>\n",
       "    </tr>\n",
       "    <tr>\n",
       "      <th>4</th>\n",
       "      <td>1</td>\n",
       "      <td>0</td>\n",
       "      <td>0</td>\n",
       "      <td>1</td>\n",
       "      <td>0</td>\n",
       "      <td>0</td>\n",
       "      <td>0</td>\n",
       "      <td>0</td>\n",
       "      <td>0</td>\n",
       "      <td>0</td>\n",
       "      <td>...</td>\n",
       "      <td>0</td>\n",
       "      <td>0</td>\n",
       "      <td>1</td>\n",
       "      <td>0</td>\n",
       "      <td>0</td>\n",
       "      <td>0</td>\n",
       "      <td>0</td>\n",
       "      <td>0</td>\n",
       "      <td>0</td>\n",
       "      <td>0</td>\n",
       "    </tr>\n",
       "  </tbody>\n",
       "</table>\n",
       "<p>5 rows × 36 columns</p>\n",
       "</div>"
      ],
      "text/plain": [
       "   0   1   2   3   4   5   6   7   8   9   ...  26  27  28  29  30  31  32  \\\n",
       "0   1   0   0   0   0   0   0   0   0   0  ...   0   0   0   0   0   0   0   \n",
       "1   1   0   0   0   0   0   0   0   0   0  ...   0   0   1   0   1   0   0   \n",
       "2   1   0   0   0   0   0   0   0   0   0  ...   0   0   0   0   0   0   0   \n",
       "3   1   0   0   0   0   0   0   0   0   0  ...   0   0   1   0   0   0   1   \n",
       "4   1   0   0   1   0   0   0   0   0   0  ...   0   0   1   0   0   0   0   \n",
       "\n",
       "   33  34  35  \n",
       "0   0   0   0  \n",
       "1   0   0   0  \n",
       "2   0   0   0  \n",
       "3   0   0   0  \n",
       "4   0   0   0  \n",
       "\n",
       "[5 rows x 36 columns]"
      ]
     },
     "execution_count": 27,
     "metadata": {},
     "output_type": "execute_result"
    }
   ],
   "source": [
    "cls = joblib.load('classifier.pkl')\n",
    "pd.DataFrame(cls.predict(X_test)).head()"
   ]
  },
  {
   "cell_type": "markdown",
   "metadata": {},
   "source": [
    "### 10. Use this notebook to complete `train.py`\n",
    "Use the template file attached in the Resources folder to write a script that runs the steps above to create a database and export a model based on a new dataset specified by the user."
   ]
  },
  {
   "cell_type": "code",
   "execution_count": null,
   "metadata": {},
   "outputs": [],
   "source": []
  }
 ],
 "metadata": {
  "kernelspec": {
   "display_name": "Python 3",
   "language": "python",
   "name": "python3"
  },
  "language_info": {
   "codemirror_mode": {
    "name": "ipython",
    "version": 3
   },
   "file_extension": ".py",
   "mimetype": "text/x-python",
   "name": "python",
   "nbconvert_exporter": "python",
   "pygments_lexer": "ipython3",
   "version": "3.7.4"
  }
 },
 "nbformat": 4,
 "nbformat_minor": 2
}
